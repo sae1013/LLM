{
 "cells": [
  {
   "cell_type": "code",
   "execution_count": null,
   "id": "3385317e-3bab-4e26-b210-06f0974a1bf2",
   "metadata": {},
   "outputs": [],
   "source": [
    "from google.oauth2.credentials import Credentials\n",
    "from google_auth_oauthlib.flow import InstalledAppFlow\n",
    "from google.auth.transport.requests import Request\n",
    "import os.path\n",
    "import pickle\n",
    "\n",
    "SCOPES = ['https://www.googleapis.com/auth/calendar']\n",
    "\n",
    "def get_calendar_service():\n",
    "    creds = None\n",
    "    if os.path.exists('token.pickle'):\n",
    "        with open('token.pickle', 'rb') as token:\n",
    "            creds = pickle.load(token)\n",
    "    if not creds or not creds.valid:\n",
    "        if creds and creds.expired and creds.refresh_token:\n",
    "            creds.refresh(Request())\n",
    "        else:\n",
    "            flow = InstalledAppFlow.from_client_secrets_file(\n",
    "                'credentials.json', SCOPES)\n",
    "            creds = flow.run_local_server(port=0)\n",
    "        with open('token.pickle', 'wb') as token:\n",
    "            pickle.dump(creds, token)\n",
    "    service = build('calendar', 'v3', credentials=creds)\n",
    "    return service\n",
    "\n",
    "def list_events():\n",
    "    service = get_calendar_service()\n",
    "    \n",
    "    # 현재 시간부터 앞으로 7일 간의 이벤트를 가져옴\n",
    "    now = datetime.datetime.utcnow().isoformat() + 'Z'  # 'Z' indicates UTC time\n",
    "    print('Getting the upcoming 10 events')\n",
    "    events_result = service.events().list(calendarId='primary', timeMin=now,\n",
    "                                          maxResults=10, singleEvents=True,\n",
    "                                          orderBy='startTime').execute()\n",
    "    events = events_result.get('items', [])\n",
    "\n",
    "    if not events:\n",
    "        print('No upcoming events found.')\n",
    "    for event in events:\n",
    "        start = event['start'].get('dateTime', event['start'].get('date'))\n",
    "        print(start, event['summary'])\n",
    "\n",
    "# 테스트 실행\n",
    "list_events()\n",
    "print(123123)"
   ]
  }
 ],
 "metadata": {
  "kernelspec": {
   "display_name": "Python 3 (ipykernel)",
   "language": "python",
   "name": "python3"
  },
  "language_info": {
   "codemirror_mode": {
    "name": "ipython",
    "version": 3
   },
   "file_extension": ".py",
   "mimetype": "text/x-python",
   "name": "python",
   "nbconvert_exporter": "python",
   "pygments_lexer": "ipython3",
   "version": "3.12.0"
  }
 },
 "nbformat": 4,
 "nbformat_minor": 5
}
