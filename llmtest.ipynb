{
 "cells": [
  {
   "cell_type": "code",
   "execution_count": 159,
   "id": "f860d87e-b852-45c7-8292-09f729621118",
   "metadata": {},
   "outputs": [],
   "source": [
    "\n",
    "# !pip install -qU langchain-openai"
   ]
  },
  {
   "cell_type": "code",
   "execution_count": 160,
   "id": "a3b6aa7b-2825-463b-9f76-178d52b6ecee",
   "metadata": {},
   "outputs": [],
   "source": [
    "# ! pip install langchain_community"
   ]
  },
  {
   "cell_type": "code",
   "execution_count": 161,
   "id": "07e17a30-c2e8-4f51-b471-b454f2884da3",
   "metadata": {},
   "outputs": [],
   "source": [
    "from langchain_openai import ChatOpenAI\n",
    "from langchain_core.messages import HumanMessage\n",
    "from langchain_community.chat_message_histories import ChatMessageHistory\n",
    "from langchain_core.chat_history import BaseChatMessageHistory\n",
    "from langchain_core.runnables.history import RunnableWithMessageHistory\n",
    "from langchain_core.prompts import ChatPromptTemplate, MessagesPlaceholder\n",
    "from langchain_core.runnables import RunnablePassthrough\n",
    "\n"
   ]
  },
  {
   "cell_type": "code",
   "execution_count": 162,
   "id": "a91d64eb-29fe-4a75-b8ef-00dc5cb553b5",
   "metadata": {},
   "outputs": [],
   "source": [
    "model = ChatOpenAI(model=\"gpt-3.5-turbo\")"
   ]
  },
  {
   "cell_type": "code",
   "execution_count": 163,
   "id": "825c20ca-08c5-4c44-94e9-6ca08002c0b1",
   "metadata": {},
   "outputs": [],
   "source": [
    "store = {}\n",
    "\n",
    "def get_session_history(session_id: str) -> BaseChatMessageHistory:\n",
    "    if session_id not in store:\n",
    "        store[session_id] = ChatMessageHistory()\n",
    "    return store[session_id]\n",
    "\n",
    "def filter_messages(messages, k=10):\n",
    "    return messages[-k:]\n",
    "    \n",
    "# with_message_history = RunnableWithMessageHistory(model, get_session_history)\n",
    "# config = {\"configurable\": {\"session_id\": \"4231\"}}\n",
    "# response = with_message_history.invoke(\n",
    "#     [HumanMessage(content=\"Hi! I'm Bob\")],\n",
    "#     config=config,\n",
    "# )\n",
    "# response = with_message_history.invoke(\n",
    "#     [HumanMessage(content=\"What's my name?\")],\n",
    "#     config=config,\n",
    "# )\n",
    "\n",
    "# response.content\n"
   ]
  },
  {
   "cell_type": "code",
   "execution_count": 164,
   "id": "2fc6bf27-fff0-478f-8004-d390babef0d4",
   "metadata": {},
   "outputs": [
    {
     "data": {
      "text/plain": [
       "'안녕하세요, 민우님! 무엇을 도와드릴까요?'"
      ]
     },
     "execution_count": 164,
     "metadata": {},
     "output_type": "execute_result"
    }
   ],
   "source": [
    "prompt = ChatPromptTemplate.from_messages(\n",
    "    [\n",
    "        (\n",
    "            \"system\",\n",
    "            \"You are a helpful assistant. Answer all questions to the best of your ability in {language}.\",\n",
    "        ),\n",
    "        MessagesPlaceholder(variable_name=\"messages\"),\n",
    "    ]\n",
    ")\n",
    "\n",
    "chain = (\n",
    "    RunnablePassthrough.assign(messages=lambda x: filter_messages(x[\"messages\"]))\n",
    "    | prompt\n",
    "    | model\n",
    ")\n",
    "\n",
    "with_message_history = RunnableWithMessageHistory(chain, get_session_history, input_messages_key=\"messages\")\n",
    "config = {\"configurable\": {\"session_id\": \"asdvsdv\"}}\n",
    "\n",
    "response = with_message_history.invoke(\n",
    "    {\"messages\": [HumanMessage(content=\"안녕 내이름은 민우야\")],\"language\":\"Korean\"},\n",
    "    config=config,\n",
    ")\n",
    "\n",
    "response.content"
   ]
  },
  {
   "cell_type": "code",
   "execution_count": 167,
   "id": "3f28d7a8-16c8-41c2-9e61-0bf6c47f8d6e",
   "metadata": {},
   "outputs": [
    {
     "data": {
      "text/plain": [
       "'Your name is Minwoo.'"
      ]
     },
     "execution_count": 167,
     "metadata": {},
     "output_type": "execute_result"
    }
   ],
   "source": [
    "# response = with_message_history.invoke(\n",
    "#     {\"messages\": [HumanMessage(content=\"What is my name?\")],\"language\":\"Korean\"},\n",
    "#     config=config,\n",
    "# )\n",
    "\n",
    "# response.content"
   ]
  },
  {
   "cell_type": "code",
   "execution_count": null,
   "id": "2655362c-850c-46b0-926e-dc5e4cdcd02a",
   "metadata": {},
   "outputs": [],
   "source": []
  },
  {
   "cell_type": "code",
   "execution_count": 166,
   "id": "f8d6a29a-a290-45d7-bb24-62678990a02a",
   "metadata": {},
   "outputs": [
    {
     "data": {
      "text/plain": [
       "'네, 민우님. 당신이 말씀하신 첫 번째 문장은 \"안녕 내이름은 민우야\" 였습니다. 부족한 저의 답변에도 불구하고 기억하고 있습니다. 어떻게 도와드릴까요?'"
      ]
     },
     "execution_count": 166,
     "metadata": {},
     "output_type": "execute_result"
    }
   ],
   "source": [
    "# response = with_message_history.invoke(\n",
    "#     {\"messages\": [HumanMessage(content=\"내가 너에게 한 첫번째 말은?\")],\"language\":\"Korean\"},\n",
    "#     config=config,\n",
    "# )\n",
    "\n",
    "# response.content"
   ]
  },
  {
   "cell_type": "code",
   "execution_count": null,
   "id": "662d90ec-46af-4886-8512-83b5085a2601",
   "metadata": {},
   "outputs": [],
   "source": []
  }
 ],
 "metadata": {
  "kernelspec": {
   "display_name": "Python 3 (ipykernel)",
   "language": "python",
   "name": "python3"
  },
  "language_info": {
   "codemirror_mode": {
    "name": "ipython",
    "version": 3
   },
   "file_extension": ".py",
   "mimetype": "text/x-python",
   "name": "python",
   "nbconvert_exporter": "python",
   "pygments_lexer": "ipython3",
   "version": "3.12.0"
  }
 },
 "nbformat": 4,
 "nbformat_minor": 5
}
